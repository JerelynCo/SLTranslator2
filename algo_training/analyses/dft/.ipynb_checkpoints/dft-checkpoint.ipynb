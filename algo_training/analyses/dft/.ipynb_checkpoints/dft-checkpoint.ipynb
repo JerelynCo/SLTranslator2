{
 "cells": [
  {
   "cell_type": "code",
   "execution_count": null,
   "metadata": {
    "collapsed": false
   },
   "outputs": [],
   "source": [
    "%pylab inline\n",
    "import pandas as pd\n",
    "import numpy as np\n",
    "import seaborn\n",
    "import string\n",
    "\n",
    "feature_names = ['fThumb', 'fIndex', 'fMiddle', 'fRing', 'fPinky', 'c1', 'c2', 'c3', 'c4', 'aX', 'aY', 'aZ', 'gX', 'gY', 'gZ', 'label']\n",
    "target_names = [i for i in string.ascii_uppercase]\n",
    "df = pd.read_csv(\"log.csv\", names=feature_names)\n",
    "\n",
    "\n",
    "def dft(column, i, j):\n",
    "    global dft_vector \n",
    "    dft_vector = np.empty(0)\n",
    "    col_size = len(column)\n",
    "    for k in range(col_size):\n",
    "        dft = 0\n",
    "        for n in range(col_size):\n",
    "            dft += column[n] * complex(np.cos(-2 * k * n * np.pi/col_size), np.sin(-2 * k * n * np.pi/col_size))\n",
    "        dft_vector = np.append(dft_vector, dft)\n",
    "    mag = [np.absolute(i) for i in dft_vector]\n",
    "    plot(mag,label=feature_names[j-1])\n",
    "    title(\"DFT for \" + target_names[i-1])\n",
    "    legend(loc='upper right')\n",
    "    \n",
    "for i in range(1,len(target_names)):\n",
    "    for j in range(1,df.columns.size):\n",
    "        dft(df.iloc[150*(i-1):150*i,j-1:j].values, i, j)\n",
    "    figure(figsize=(4,3))"
   ]
  },
  {
   "cell_type": "code",
   "execution_count": 2,
   "metadata": {
    "collapsed": false
   },
   "outputs": [
    {
     "name": "stdout",
     "output_type": "stream",
     "text": [
      "dft.ipynb  dft.py  log.csv\r\n"
     ]
    }
   ],
   "source": []
  }
 ],
 "metadata": {
  "kernelspec": {
   "display_name": "Python 3",
   "language": "python",
   "name": "python3"
  },
  "language_info": {
   "codemirror_mode": {
    "name": "ipython",
    "version": 3
   },
   "file_extension": ".py",
   "mimetype": "text/x-python",
   "name": "python",
   "nbconvert_exporter": "python",
   "pygments_lexer": "ipython3",
   "version": "3.5.1"
  }
 },
 "nbformat": 4,
 "nbformat_minor": 0
}

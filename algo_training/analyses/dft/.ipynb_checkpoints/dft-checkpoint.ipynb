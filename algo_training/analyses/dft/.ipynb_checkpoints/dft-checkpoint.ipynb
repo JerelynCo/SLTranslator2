{
 "cells": [
  {
   "cell_type": "code",
   "execution_count": 15,
   "metadata": {
    "collapsed": false
   },
   "outputs": [
    {
     "name": "stdout",
     "output_type": "stream",
     "text": [
      "Using matplotlib backend: Qt4Agg\n",
      "Populating the interactive namespace from numpy and matplotlib\n"
     ]
    },
    {
     "data": {
      "text/plain": [
       "[<matplotlib.lines.Line2D at 0x7f936aa30b70>]"
      ]
     },
     "execution_count": 15,
     "metadata": {},
     "output_type": "execute_result"
    }
   ],
   "source": [
    "%pylab\n",
    "import pandas as pd\n",
    "import numpy as np\n",
    "import seaborn\n",
    "\n",
    "data = pd.read_csv(\"e1.csv\")\n",
    "\n",
    "def dft(column):\n",
    "    global dft_vector \n",
    "    dft_vector = np.empty(0)\n",
    "    col_size = len(column)\n",
    "    for k in range(col_size):\n",
    "        dft = 0\n",
    "        for n in range(col_size):\n",
    "            dft += column[n] * complex(np.cos(-2 * k * n * np.pi/col_size), np.sin(-2 * k * n * np.pi/col_size))\n",
    "        dft_vector = np.append(dft_vector, dft)\n",
    "\n",
    "new = pd.DataFrame();\n",
    "\n",
    "# dft(data.iloc[:150,0].values)\n",
    "new['val'] = data.iloc[:150,0].values\n",
    "dft(new['val'].values)\n",
    "new['real'] = [i.real for i in dft_vector]\n",
    "new['imag'] = [i.imag for i in dft_vector]\n",
    "new['mag'] = [np.absolute(i) for i in dft_vector]\n",
    "\n",
    "plot(new['mag'])\n",
    "# new"
   ]
  },
  {
   "cell_type": "code",
   "execution_count": null,
   "metadata": {
    "collapsed": true
   },
   "outputs": [],
   "source": []
  },
  {
   "cell_type": "code",
   "execution_count": 9,
   "metadata": {
    "collapsed": false
   },
   "outputs": [
    {
     "data": {
      "text/plain": [
       "231"
      ]
     },
     "execution_count": 9,
     "metadata": {},
     "output_type": "execute_result"
    }
   ],
   "source": [
    "data.iloc[:150,0].values[4]"
   ]
  }
 ],
 "metadata": {
  "kernelspec": {
   "display_name": "Python 3",
   "language": "python",
   "name": "python3"
  },
  "language_info": {
   "codemirror_mode": {
    "name": "ipython",
    "version": 3
   },
   "file_extension": ".py",
   "mimetype": "text/x-python",
   "name": "python",
   "nbconvert_exporter": "python",
   "pygments_lexer": "ipython3",
   "version": "3.5.1"
  }
 },
 "nbformat": 4,
 "nbformat_minor": 0
}

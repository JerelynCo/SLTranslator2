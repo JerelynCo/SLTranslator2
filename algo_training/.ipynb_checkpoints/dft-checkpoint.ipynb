{
 "cells": [
  {
   "cell_type": "code",
   "execution_count": null,
   "metadata": {
    "collapsed": true
   },
   "outputs": [],
   "source": [
    "import argparse\n",
    "import pandas as pd\n",
    "import numpy as np\n",
    "\n",
    "parser = argparse.ArgumentParser()\n",
    "parser.add_argument(\"filename\", help=\"Indicate the filename to solve\", type=str)\n",
    "args = parser.parse_args()\n",
    "\n",
    "data = pd.read_csv(args.filename)\n",
    "\n",
    "def dft(column):\n",
    "\tglobal dft_vector \n",
    "\tdft_vector = np.empty(0)\n",
    "\tcol_size = len(column)\n",
    "\tfor k in range(col_size):\n",
    "\t\tdft = 0\n",
    "\t\tfor n in range(col_size):\n",
    "\t\t\tdft += column[n] * complex(np.cos(-2 * k * n * np.pi/col_size), np.sin(-2 * k * n * np.pi/col_size))\n",
    "\t\tdft_vector = np.append(dft_vector, dft)\n",
    "\t\n",
    "\n",
    "\n",
    "dft(data.ix[:,0].values)\n",
    "data['real'] = [i.real for i in dft_vector]\n",
    "data['imag'] = [i.imag for i in dft_vector]\n",
    "data['mag'] = [np.absolute(i) for i in dft_vector]\n",
    "\n",
    "data.to_csv(args.filename.split('.')[0]+\"-dft.csv\")"
   ]
  }
 ],
 "metadata": {
  "kernelspec": {
   "display_name": "Python 3",
   "language": "python",
   "name": "python3"
  },
  "language_info": {
   "codemirror_mode": {
    "name": "ipython",
    "version": 3
   },
   "file_extension": ".py",
   "mimetype": "text/x-python",
   "name": "python",
   "nbconvert_exporter": "python",
   "pygments_lexer": "ipython3",
   "version": "3.5.1"
  }
 },
 "nbformat": 4,
 "nbformat_minor": 0
}
